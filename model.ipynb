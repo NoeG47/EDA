{
 "cells": [
  {
   "cell_type": "code",
   "execution_count": null,
   "id": "c7aba0d7",
   "metadata": {},
   "outputs": [],
   "source": []
  },
  {
   "cell_type": "code",
   "execution_count": 20,
   "id": "054da606",
   "metadata": {},
   "outputs": [],
   "source": [
    "import pandas as pd\n",
    "import numpy as np\n",
    "import matplotlib.pyplot as plt\n",
    "from sklearn.model_selection import train_test_split\n",
    "from sklearn.linear_model import LinearRegression\n",
    "from sklearn.preprocessing import PolynomialFeatures\n",
    "from sklearn.ensemble import RandomForestRegressor\n",
    "from sklearn.metrics import r2_score, mean_squared_error"
   ]
  },
  {
   "cell_type": "code",
   "execution_count": 2,
   "id": "a4f323ba",
   "metadata": {},
   "outputs": [],
   "source": [
    "df = pd.read_csv(\"vitaminas.csv\")"
   ]
  },
  {
   "cell_type": "code",
   "execution_count": 7,
   "id": "a04b356e",
   "metadata": {},
   "outputs": [
    {
     "name": "stdout",
     "output_type": "stream",
     "text": [
      "['Date', 'Product Name', 'Category', 'Units Sold', 'Price', 'Revenue', 'Discount', 'Units Returned', 'Location', 'Platform']\n"
     ]
    }
   ],
   "source": [
    "print(df.columns.tolist())\n"
   ]
  },
  {
   "cell_type": "code",
   "execution_count": 10,
   "id": "238201e2",
   "metadata": {},
   "outputs": [],
   "source": [
    "# 2. Agrupar por producto (ajusta el nombre de columna si difiere)\n",
    "df_grouped = df.groupby(\"Product Name\").agg({\n",
    "    \"Discount\": \"mean\",       # descuento promedio\n",
    "    \"Units Sold\": \"sum\"       # total de unidades vendidas\n",
    "}).reset_index()\n",
    "\n",
    "X = df_grouped[[\"Discount\"]]\n",
    "y = df_grouped[\"Units Sold\"]\n"
   ]
  },
  {
   "cell_type": "code",
   "execution_count": 11,
   "id": "b7a3b484",
   "metadata": {},
   "outputs": [],
   "source": [
    "# 3. Split train/test\n",
    "X_train, X_test, y_train, y_test = train_test_split(\n",
    "    X, y, test_size=0.2, random_state=42\n",
    ")"
   ]
  },
  {
   "cell_type": "code",
   "execution_count": 12,
   "id": "cd697a56",
   "metadata": {},
   "outputs": [],
   "source": [
    "# =====================\n",
    "# Modelo Lineal\n",
    "# =====================\n",
    "lin_model = LinearRegression()\n",
    "lin_model.fit(X_train, y_train)\n",
    "y_pred_lin = lin_model.predict(X_test)"
   ]
  },
  {
   "cell_type": "code",
   "execution_count": 13,
   "id": "f9d602e2",
   "metadata": {},
   "outputs": [],
   "source": [
    "\n",
    "# =====================\n",
    "# Modelo Polinómico (grado 2)\n",
    "# =====================\n",
    "poly = PolynomialFeatures(degree=2)\n",
    "X_train_poly = poly.fit_transform(X_train)\n",
    "X_test_poly = poly.transform(X_test)\n",
    "\n",
    "poly_model = LinearRegression()\n",
    "poly_model.fit(X_train_poly, y_train)\n",
    "y_pred_poly = poly_model.predict(X_test_poly)"
   ]
  },
  {
   "cell_type": "code",
   "execution_count": 14,
   "id": "de489d95",
   "metadata": {},
   "outputs": [],
   "source": [
    "# =====================\n",
    "# Random Forest\n",
    "# =====================\n",
    "rf_model = RandomForestRegressor(random_state=42, n_estimators=200)\n",
    "rf_model.fit(X_train, y_train)\n",
    "y_pred_rf = rf_model.predict(X_test)"
   ]
  },
  {
   "cell_type": "code",
   "execution_count": 18,
   "id": "fd4d6c4c",
   "metadata": {},
   "outputs": [],
   "source": [
    "def evaluar(y_true, y_pred, nombre):\n",
    "    print(f\"--- {nombre} ---\")\n",
    "    print(\"R²:\", round(r2_score(y_true, y_pred), 3))\n",
    "    rmse = np.sqrt(mean_squared_error(y_true, y_pred))\n",
    "    print(\"RMSE:\", round(rmse, 3))"
   ]
  },
  {
   "cell_type": "code",
   "execution_count": 21,
   "id": "fb5ade13",
   "metadata": {},
   "outputs": [
    {
     "name": "stdout",
     "output_type": "stream",
     "text": [
      "--- Lineal ---\n",
      "R²: -0.39\n",
      "RMSE: 181.862\n",
      "--- Polinómico (grado 2) ---\n",
      "R²: -0.832\n",
      "RMSE: 208.773\n",
      "--- Random Forest ---\n",
      "R²: -0.885\n",
      "RMSE: 211.777\n"
     ]
    }
   ],
   "source": [
    "evaluar(y_test, y_pred_lin, \"Lineal\")\n",
    "evaluar(y_test, y_pred_poly, \"Polinómico (grado 2)\")\n",
    "evaluar(y_test, y_pred_rf, \"Random Forest\")"
   ]
  },
  {
   "cell_type": "code",
   "execution_count": 27,
   "id": "d07e6cc1",
   "metadata": {},
   "outputs": [
    {
     "name": "stdout",
     "output_type": "stream",
     "text": [
      "--- Resumen de Ventas por Producto, Plataforma y Descuento ---\n",
      "          product_name platform  total_units_sold  total_discount\n",
      "0          Ashwagandha   Amazon             14170           11.64\n",
      "1          Ashwagandha  Walmart             13441           10.25\n",
      "2          Ashwagandha    iHerb             13797           12.70\n",
      "3                 BCAA   Amazon             13387           10.96\n",
      "4                 BCAA  Walmart             14835           11.50\n",
      "5                 BCAA    iHerb             12805           10.87\n",
      "6               Biotin   Amazon             13682           10.44\n",
      "7               Biotin  Walmart             13871           11.63\n",
      "8               Biotin    iHerb             13980           11.12\n",
      "9    Collagen Peptides   Amazon             13739           10.68\n",
      "10   Collagen Peptides  Walmart             13852           12.42\n",
      "11   Collagen Peptides    iHerb             13265           10.13\n",
      "12            Creatine   Amazon             15273           11.73\n",
      "13            Creatine  Walmart             13566           11.04\n",
      "14            Creatine    iHerb             12397           10.10\n",
      "15  Electrolyte Powder   Amazon             15504           12.16\n",
      "16  Electrolyte Powder  Walmart             10624            9.24\n",
      "17  Electrolyte Powder    iHerb             14937           11.23\n",
      "18            Fish Oil   Amazon             16537           14.78\n",
      "19            Fish Oil  Walmart             10448            9.05\n",
      "20            Fish Oil    iHerb             14340           11.49\n",
      "21   Green Tea Extract   Amazon             12676           10.30\n",
      "22   Green Tea Extract  Walmart             14711           13.51\n",
      "23   Green Tea Extract    iHerb             13356           10.62\n",
      "24     Iron Supplement   Amazon             14394           11.82\n",
      "25     Iron Supplement  Walmart             10825            9.33\n",
      "26     Iron Supplement    iHerb             15975           12.31\n",
      "27           Magnesium   Amazon             13583           11.85\n",
      "28           Magnesium  Walmart             12324            9.32\n",
      "29           Magnesium    iHerb             15363           14.27\n",
      "30           Melatonin   Amazon             11620           10.05\n",
      "31           Melatonin  Walmart             14119           10.30\n",
      "32           Melatonin    iHerb             15426           13.76\n",
      "33        Multivitamin   Amazon             14509           11.82\n",
      "34        Multivitamin  Walmart             14301           12.16\n",
      "35        Multivitamin    iHerb             12364           10.48\n",
      "36         Pre-Workout   Amazon             13953           11.66\n",
      "37         Pre-Workout  Walmart             14283           11.84\n",
      "38         Pre-Workout    iHerb             13051           10.89\n",
      "39           Vitamin C   Amazon             11302            9.86\n",
      "40           Vitamin C  Walmart             13451           11.94\n",
      "41           Vitamin C    iHerb             15974           13.62\n",
      "42        Whey Protein   Amazon             12310           10.37\n",
      "43        Whey Protein  Walmart             14576           11.44\n",
      "44        Whey Protein    iHerb             14378           11.55\n",
      "45                Zinc   Amazon             13984           11.55\n",
      "46                Zinc  Walmart             13201           11.80\n",
      "47                Zinc    iHerb             14019           11.78\n"
     ]
    }
   ],
   "source": [
    "import pandas as pd\n",
    "\n",
    "# 1. Cargar y limpiar los datos (igual que en los pasos anteriores)\n",
    "df = pd.read_csv(\"data/sales_data.csv\")\n",
    "df.columns = df.columns.str.lower().str.replace(' ', '_')\n",
    "\n",
    "# 2. Agrupar por producto y plataforma\n",
    "# Y calcular la suma de las columnas deseadas\n",
    "resumen_plataformas = df.groupby(['product_name', 'platform']).agg(\n",
    "    total_units_sold=('units_sold', 'sum'),\n",
    "    total_discount=('discount', 'sum')\n",
    ").reset_index()\n",
    "\n",
    "# 3. Mostrar el resultado\n",
    "print(\"--- Resumen de Ventas por Producto, Plataforma y Descuento ---\")\n",
    "print(resumen_plataformas)"
   ]
  },
  {
   "cell_type": "code",
   "execution_count": null,
   "id": "54540cf1",
   "metadata": {},
   "outputs": [],
   "source": []
  }
 ],
 "metadata": {
  "kernelspec": {
   "display_name": ".venv",
   "language": "python",
   "name": "python3"
  },
  "language_info": {
   "codemirror_mode": {
    "name": "ipython",
    "version": 3
   },
   "file_extension": ".py",
   "mimetype": "text/x-python",
   "name": "python",
   "nbconvert_exporter": "python",
   "pygments_lexer": "ipython3",
   "version": "3.12.3"
  }
 },
 "nbformat": 4,
 "nbformat_minor": 5
}
